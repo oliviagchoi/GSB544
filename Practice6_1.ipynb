{
  "cells": [
    {
      "cell_type": "markdown",
      "metadata": {},
      "source": [
        "---\n",
        "title: Palmer Penguins Modeling\n",
        "jupyter: python3\n",
        "format:\n",
        "  html:\n",
        "    embed-resources: true\n",
        "---\n",
        "\n",
        "\n",
        "Import the Palmer Penguins dataset and print out the first few rows.\n",
        "\n",
        "Suppose we want to predict `bill_depth_mm` using the other variables in the dataset.\n",
        "\n",
        "Which variables would we need to **dummify**?\n"
      ]
    },
    {
      "cell_type": "code",
      "metadata": {
        "colab": {
          "base_uri": "https://localhost:8080/"
        }
      },
      "source": [
        "# Code Here\n",
        "!pip install palmerpenguins\n",
        "from palmerpenguins import load_penguins\n",
        "import pandas as pd\n",
        "import numpy as np\n",
        "from sklearn.preprocessing import OneHotEncoder"
      ],
      "execution_count": null,
      "outputs": []
    },
    {
      "cell_type": "code",
      "metadata": {
        "colab": {
          "base_uri": "https://localhost:8080/",
          "height": 206
        }
      },
      "source": [
        "penguins = load_penguins()\n",
        "penguins.head()"
      ],
      "execution_count": null,
      "outputs": []
    },
    {
      "cell_type": "code",
      "metadata": {
        "colab": {
          "base_uri": "https://localhost:8080/",
          "height": 444
        }
      },
      "source": [
        "pd.get_dummies(penguins)"
      ],
      "execution_count": null,
      "outputs": []
    },
    {
      "cell_type": "markdown",
      "metadata": {},
      "source": [
        "Dummify species, island, and sex\n",
        "\n",
        "Let's use `bill_length_mm` to predict `bill_depth_mm`. Prepare your data and fit the following models on the entire dataset:\n",
        "\n",
        "* Simple linear regression (e.g. straight-line) model\n",
        "* Quadratic (degree 2 polynomial) model\n",
        "* Cubic (degree 3 polynomial) model\n",
        "* Degree 10 polynomial model\n",
        "\n",
        "Make predictions for each model and plot your fitted models on the scatterplot."
      ]
    },
    {
      "cell_type": "code",
      "metadata": {
        "colab": {
          "base_uri": "https://localhost:8080/",
          "height": 80
        }
      },
      "source": [
        "from sklearn.linear_model import LinearRegression\n",
        "\n",
        "penguins_clean = penguins.dropna(subset=[\"bill_length_mm\", \"bill_depth_mm\"])\n",
        "\n",
        "model1 = LinearRegression()\n",
        "model1.fit(\n",
        "    X=penguins_clean[[\"bill_length_mm\"]],\n",
        "    y=penguins_clean[\"bill_depth_mm\"]\n",
        "    )"
      ],
      "execution_count": null,
      "outputs": []
    },
    {
      "cell_type": "code",
      "metadata": {
        "colab": {
          "base_uri": "https://localhost:8080/",
          "height": 468
        }
      },
      "source": [
        "X_new = pd.DataFrame()\n",
        "X_new[\"bill_length_mm\"] = np.linspace(\n",
        "    penguins_clean[\"bill_length_mm\"].min(),\n",
        "    penguins_clean[\"bill_length_mm\"].max(),\n",
        "    num=1000\n",
        ")\n",
        "\n",
        "y_new_ = pd.Series(\n",
        "    model1.predict(X_new),\n",
        "    index=X_new[\"bill_length_mm\"]\n",
        ")\n",
        "\n",
        "penguins_clean.plot.scatter(x=\"bill_length_mm\", y=\"bill_depth_mm\", color=\"teal\", alpha=0.6)\n",
        "\n",
        "y_new_.plot.line(c=\"navy\", linewidth=2)"
      ],
      "execution_count": null,
      "outputs": []
    },
    {
      "cell_type": "code",
      "metadata": {
        "colab": {
          "base_uri": "https://localhost:8080/",
          "height": 579
        }
      },
      "source": [
        "penguins_clean[\"bill_length_mm_square\"] = penguins_clean[\"bill_length_mm\"] ** 2\n",
        "\n",
        "square_model = LinearRegression()\n",
        "square_model.fit(\n",
        "    X=penguins_clean[[\"bill_length_mm\", \"bill_length_mm_square\"]],\n",
        "    y=penguins_clean[\"bill_depth_mm\"]\n",
        ")\n",
        "\n",
        "square_model.coef_, square_model.intercept_\n",
        "\n",
        "X_new = pd.DataFrame()\n",
        "X_new[\"bill_length_mm\"] = np.linspace(\n",
        "    penguins_clean[\"bill_length_mm\"].min(),\n",
        "    penguins_clean[\"bill_length_mm\"].max(),\n",
        "    num=1000)\n",
        "X_new[\"bill_length_mm_square\"] = X_new[\"bill_length_mm\"] ** 2\n",
        "\n",
        "y_new_ = pd.Series(\n",
        "    square_model.predict(X_new),\n",
        "    index=X_new[\"bill_length_mm\"])\n",
        "\n",
        "penguins_clean.plot.scatter(x=\"bill_length_mm\", y=\"bill_depth_mm\", color=\"teal\", alpha=0.6)\n",
        "y_new_.plot.line(c=\"navy\")"
      ],
      "execution_count": null,
      "outputs": []
    },
    {
      "cell_type": "code",
      "metadata": {
        "colab": {
          "base_uri": "https://localhost:8080/",
          "height": 689
        }
      },
      "source": [
        "penguins_clean[\"bill_length_mm_square\"] = penguins_clean[\"bill_length_mm\"] ** 2\n",
        "penguins_clean[\"bill_length_mm_cube\"] = penguins_clean[\"bill_length_mm\"] ** 3\n",
        "\n",
        "cubic_model = LinearRegression()\n",
        "cubic_model.fit(\n",
        "    X=penguins_clean[[\"bill_length_mm\", \"bill_length_mm_square\", \"bill_length_mm_cube\"]],\n",
        "    y=penguins_clean[\"bill_depth_mm\"]\n",
        ")\n",
        "\n",
        "cubic_model.coef_, cubic_model.intercept_\n",
        "\n",
        "X_new = pd.DataFrame()\n",
        "X_new[\"bill_length_mm\"] = np.linspace(\n",
        "    penguins_clean[\"bill_length_mm\"].min(),\n",
        "    penguins_clean[\"bill_length_mm\"].max(),\n",
        "    num=1000)\n",
        "X_new[\"bill_length_mm_square\"] = X_new[\"bill_length_mm\"] ** 2\n",
        "X_new[\"bill_length_mm_cube\"] = X_new[\"bill_length_mm\"] ** 3\n",
        "y_new_ = pd.Series(\n",
        "    cubic_model.predict(X_new),\n",
        "    index=X_new[\"bill_length_mm\"])\n",
        "\n",
        "penguins_clean.plot.scatter(x=\"bill_length_mm\", y=\"bill_depth_mm\", color=\"teal\", alpha=0.6)\n",
        "y_new_.plot.line(c=\"navy\")"
      ],
      "execution_count": null,
      "outputs": []
    },
    {
      "cell_type": "code",
      "metadata": {
        "colab": {
          "base_uri": "https://localhost:8080/",
          "height": 579
        }
      },
      "source": [
        "for i in range(2, 11):\n",
        "    penguins_clean[f\"bill_length_mm_pow{i}\"] = penguins_clean[\"bill_length_mm\"] ** i\n",
        "\n",
        "deg10_model = LinearRegression()\n",
        "deg10_model.fit(\n",
        "    X=penguins_clean[[f\"bill_length_mm_pow{i}\" for i in range(1, 11)]]\n",
        "      if \"bill_length_mm_pow1\" in penguins_clean.columns\n",
        "      else penguins_clean[[\"bill_length_mm\"] + [f\"bill_length_mm_pow{i}\" for i in range(2, 11)]],\n",
        "    y=penguins_clean[\"bill_depth_mm\"])\n",
        "\n",
        "deg10_model.coef_, deg10_model.intercept_\n",
        "\n",
        "X_new = pd.DataFrame()\n",
        "X_new[\"bill_length_mm\"] = np.linspace(\n",
        "    penguins_clean[\"bill_length_mm\"].min(),\n",
        "    penguins_clean[\"bill_length_mm\"].max(),\n",
        "    num=1000\n",
        ")\n",
        "for i in range(2, 11):\n",
        "    X_new[f\"bill_length_mm_pow{i}\"] = X_new[\"bill_length_mm\"] ** i\n",
        "\n",
        "y_new_ = pd.Series(\n",
        "    deg10_model.predict(\n",
        "        X_new[[f\"bill_length_mm_pow{i}\" for i in range(1, 11)]]\n",
        "        if \"bill_length_mm_pow1\" in X_new.columns\n",
        "        else X_new[[\"bill_length_mm\"] + [f\"bill_length_mm_pow{i}\" for i in range(2, 11)]]\n",
        "    ),\n",
        "    index=X_new[\"bill_length_mm\"]\n",
        ")\n",
        "\n",
        "penguins_clean.plot.scatter(x=\"bill_length_mm\", y=\"bill_depth_mm\", color=\"teal\", alpha=0.6)\n",
        "y_new_.plot.line(c=\"navy\")"
      ],
      "execution_count": null,
      "outputs": []
    },
    {
      "cell_type": "markdown",
      "metadata": {},
      "source": [
        "* Are any of the models above underfitting the data? If so, which ones and how can you tell?\n",
        "* Are any of thhe models above overfitting the data? If so, which ones and how can you tell?\n",
        "* Which of the above models do you think fits the data best and why?\n",
        "\n",
        "* The simple linear regression model underfits the data (doesn't follow the curve)\n",
        "* The cubic and degree 10 models overfit the data (too sharp)\n",
        "* The quadratic model captures it the best (follows the trend most closely)\n"
      ]
    }
  ],
  "metadata": {
    "kernelspec": {
      "name": "python3",
      "language": "python",
      "display_name": "Python 3 (ipykernel)",
      "path": "/Users/oliviachoi/GSB 544/.venv/share/jupyter/kernels/python3"
    }
  },
  "nbformat": 4,
  "nbformat_minor": 4
}